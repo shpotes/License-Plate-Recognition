{
 "cells": [
  {
   "cell_type": "markdown",
   "metadata": {},
   "source": [
    "# Character segmentation for license plate recognition"
   ]
  },
  {
   "cell_type": "markdown",
   "metadata": {},
   "source": [
    "Necessary packages"
   ]
  },
  {
   "cell_type": "code",
   "execution_count": 2,
   "metadata": {},
   "outputs": [],
   "source": [
    "import cv2, os, time\n",
    "import numpy as np"
   ]
  },
  {
   "cell_type": "markdown",
   "metadata": {},
   "source": [
    "## Inference for a single image\n",
    "This function takes an image and returns True or False wheter or not it found a license plate."
   ]
  },
  {
   "cell_type": "code",
   "execution_count": 28,
   "metadata": {},
   "outputs": [],
   "source": [
    "def isPlate(img):\n",
    "    a_Plate = False\n",
    "    saveChar = True\n",
    "    contImages2 = 0\n",
    "    \n",
    "    kernel = np.ones((2,2),np.uint8)\n",
    "    mser = cv2.MSER_create()\n",
    "    # gray image\n",
    "    gray = cv2.cvtColor(img, cv2.COLOR_BGR2GRAY)\n",
    "    vis = img.copy()\n",
    "    \n",
    "    # collect bounding boxes from the image\n",
    "    regions = mser.detectRegions(gray)\n",
    "    bboxes = identifyBoundingBoxes(regions,vis)\n",
    "    clases = calcularClases(bboxes)\n",
    "    \n",
    "    if len(clases) == 6:\n",
    "        a_Plate = True\n",
    "        for areas2 in clases:\n",
    "            if saveChar:\n",
    "                lower_range = np.array([0,0,0])\n",
    "                upper_range = np.array([180,255,80])\n",
    "                lower_range2 = np.array([0,0,0])\n",
    "                upper_range2 = np.array([70,70,70])\n",
    "                imgSaved = vis[areas2[1]:areas2[1]+areas2[3],areas2[0]:areas2[0]+areas2[2]]\n",
    "                hsv = cv2.cvtColor(imgSaved, cv2.COLOR_BGR2HSV)\n",
    "                maskf = cv2.inRange(src=hsv, lowerb=lower_range, upperb=upper_range)\n",
    "                cv2.rectangle(vis,(areas2[0],areas2[1]),(areas2[0]+areas2[2],areas2[1]+areas2[3]),(0,255,0))\n",
    "            \n",
    "                _,thresh2 = cv2.threshold(maskf,127,255,cv2.THRESH_BINARY_INV)\n",
    "                cv2.imwrite(str(contImages2)+'.png',thresh2)\n",
    "                contImages2+=1\n",
    "                \n",
    "            else:\n",
    "                cv2.rectangle(vis,(areas2[0],areas2[1]),(areas2[0]+areas2[2],areas2[1]+areas2[3]),(255,255,255))\n",
    "    if len(clases)==6:\n",
    "        print('buena')\n",
    "    return a_Plate"
   ]
  },
  {
   "cell_type": "markdown",
   "metadata": {},
   "source": [
    "### Identifying bounding boxes\n",
    "From the regions 'regions' generated in a single image 'img', this returns the accepted bunding boxes for the license plate, according to size and location."
   ]
  },
  {
   "cell_type": "code",
   "execution_count": 29,
   "metadata": {},
   "outputs": [],
   "source": [
    "def identifyBoundingBoxes(regions, vis):\n",
    "    nh = img.shape[1]\n",
    "    nw = img.shape[0]\n",
    "    ltmp = list(regions[1])\n",
    "    sorted_y_idx_list = sorted(range(len(ltmp)),key=lambda x: ltmp[x][0])\n",
    "    nregions1 = [ltmp[i] for i in sorted_y_idx_list ]\n",
    "    nregions0 = [regions[0][i] for i in sorted_y_idx_list ]\n",
    "    \n",
    "    bboxes = []\n",
    "    contbbox = 0\n",
    "    coo = [x[0] for x in nregions1]\n",
    "    c2 = np.array(coo).reshape(-1,1)\n",
    "\n",
    "    for p in nregions0:\n",
    "        ax = cv2.contourArea(p)\n",
    "        a = cv2.convexHull(p.reshape(-1, 1, 2))\n",
    "        x, y, w2, h2 = nregions1[contbbox]\n",
    "        ax = w2*h2\n",
    "        \n",
    "        if ax > 0.02*(nh*nw) and ax < 0.16*(nh*nw) and h2>w2 and h2<3*w2:\n",
    "            cv2.rectangle(vis,(x,y),(x+w2,y+h2),(255,20,25))\n",
    "            # Calculate the center of the region\n",
    "            M = cv2.moments(a)\n",
    "            if M[\"m00\"] != 0:\n",
    "                cX = int(M[\"m10\"] / M[\"m00\"])\n",
    "                cY = int(M[\"m01\"] / M[\"m00\"])\n",
    "            else:\n",
    "                cY = nw\n",
    "\n",
    "            if (0.25*nw) < cY < (0.65*nw):\n",
    "                # append the accepted bounding box\n",
    "                bboxes.append(nregions1[contbbox])\n",
    "                \n",
    "        contbbox+=1 \n",
    "    \n",
    "    return bboxes    "
   ]
  },
  {
   "cell_type": "markdown",
   "metadata": {},
   "source": [
    "### Helper function\n",
    "Calculate the Intersection over Union (IoU) of two bounding boxes. [Calculate iou](https://stackoverflow.com/questions/25349178/calculating-percentage-of-bounding-box-overlap-for-image-detector-evaluation)\n",
    "\n",
    "    Parameters\n",
    "    ----------\n",
    "    bb1 : dict\n",
    "        Keys: {'x1', 'x2', 'y1', 'y2'}\n",
    "        The (x1, y1) position is at the top left corner,\n",
    "        the (x2, y2) position is at the bottom right corner\n",
    "    bb2 : dict\n",
    "        Keys: {'x1', 'x2', 'y1', 'y2'}\n",
    "        The (x, y) position is at the top left corner,\n",
    "        the (x2, y2) position is at the bottom right corner\n",
    "\n",
    "    Returns\n",
    "    -------\n",
    "    float\n",
    "        in [0, 1]"
   ]
  },
  {
   "cell_type": "code",
   "execution_count": 30,
   "metadata": {},
   "outputs": [],
   "source": [
    "def get_iou(bb1, bb2):\n",
    "    assert bb1['x1'] < bb1['x2']\n",
    "    assert bb1['y1'] < bb1['y2']\n",
    "    assert bb2['x1'] < bb2['x2']\n",
    "    assert bb2['y1'] < bb2['y2']\n",
    "\n",
    "    # determine the coordinates of the intersection rectangle\n",
    "    x_left = max(bb1['x1'], bb2['x1'])\n",
    "    y_top = max(bb1['y1'], bb2['y1'])\n",
    "    x_right = min(bb1['x2'], bb2['x2'])\n",
    "    y_bottom = min(bb1['y2'], bb2['y2'])\n",
    "\n",
    "    if x_right < x_left or y_bottom < y_top:\n",
    "        return 0.0\n",
    "\n",
    "    # The intersection of two axis-aligned bounding boxes is always an\n",
    "    # axis-aligned bounding box\n",
    "    intersection_area = (x_right - x_left) * (y_bottom - y_top)\n",
    "\n",
    "    # compute the area of both AABBs\n",
    "    bb1_area = (bb1['x2'] - bb1['x1']) * (bb1['y2'] - bb1['y1'])\n",
    "    bb2_area = (bb2['x2'] - bb2['x1']) * (bb2['y2'] - bb2['y1'])\n",
    "\n",
    "    # compute the intersection over union by taking the intersection\n",
    "    # area and dividing it by the sum of prediction + ground-truth\n",
    "    # areas - the interesection area\n",
    "    iou = intersection_area / float(bb1_area + bb2_area - intersection_area)\n",
    "    assert iou >= 0.0\n",
    "    assert iou <= 1.0\n",
    "    return iou"
   ]
  },
  {
   "cell_type": "markdown",
   "metadata": {},
   "source": [
    "### Helper function\n",
    "Calculating the classes for the bounding boxes, in case there is some that are overlapped. This takes as an input the accepted bounding boxes, 'bboxes', and returns a list containing the final bounding boxes."
   ]
  },
  {
   "cell_type": "code",
   "execution_count": 31,
   "metadata": {},
   "outputs": [],
   "source": [
    "def calcularClases(bboxes):\n",
    "    clases = [[]]\n",
    "    if bboxes == []:\n",
    "        return []\n",
    "    for b in bboxes:\n",
    "        for i in range(len(clases)):\n",
    "            l = clases[i]\n",
    "            if l == []:\n",
    "                l.append(b)\n",
    "            else:\n",
    "                ll = l[-1]\n",
    "                db = {'x1':b[0], 'x2':b[0]+b[2], 'y1':b[1], 'y2':b[1]+b[3]}\n",
    "                dl = {'x1':ll[0], 'x2':ll[0]+ll[2], 'y1':ll[1], 'y2':ll[1]+ll[3]}\n",
    "                ii = get_iou( db, dl)\n",
    "                if ii > 0.05:\n",
    "                    l.append(b)\n",
    "                    break\n",
    "                else:\n",
    "                    if i == len(clases)-1:\n",
    "                        clases.append([b])\n",
    "                        break\n",
    "    clas = [0]*(len(clases))\n",
    "    for i in range(len(clases)):\n",
    "        l = clases[i]\n",
    "        clas[i] = max(l, key = lambda x: x[1]*x[2])\n",
    "    \n",
    "    return clas"
   ]
  },
  {
   "cell_type": "markdown",
   "metadata": {},
   "source": [
    "## Run inference in the archives\n",
    "Make sure to link the correct directory!"
   ]
  },
  {
   "cell_type": "code",
   "execution_count": 32,
   "metadata": {},
   "outputs": [
    {
     "ename": "NameError",
     "evalue": "name 'vis' is not defined",
     "output_type": "error",
     "traceback": [
      "\u001b[0;31m---------------------------------------------------------------------------\u001b[0m",
      "\u001b[0;31mNameError\u001b[0m                                 Traceback (most recent call last)",
      "\u001b[0;32m<ipython-input-32-86800eb4e60a>\u001b[0m in \u001b[0;36m<module>\u001b[0;34m()\u001b[0m\n\u001b[1;32m      2\u001b[0m \u001b[0marchivos\u001b[0m \u001b[0;34m=\u001b[0m \u001b[0;34m[\u001b[0m\u001b[0mcv2\u001b[0m\u001b[0;34m.\u001b[0m\u001b[0mimread\u001b[0m\u001b[0;34m(\u001b[0m\u001b[0mi\u001b[0m\u001b[0;34m)\u001b[0m \u001b[0;32mfor\u001b[0m \u001b[0mi\u001b[0m \u001b[0;32min\u001b[0m \u001b[0mfiles\u001b[0m\u001b[0;34m]\u001b[0m\u001b[0;34m\u001b[0m\u001b[0m\n\u001b[1;32m      3\u001b[0m \u001b[0;32mfor\u001b[0m \u001b[0mi\u001b[0m \u001b[0;32min\u001b[0m \u001b[0mrange\u001b[0m\u001b[0;34m(\u001b[0m\u001b[0mlen\u001b[0m\u001b[0;34m(\u001b[0m\u001b[0marchivos\u001b[0m\u001b[0;34m)\u001b[0m\u001b[0;34m)\u001b[0m\u001b[0;34m:\u001b[0m\u001b[0;34m\u001b[0m\u001b[0m\n\u001b[0;32m----> 4\u001b[0;31m     \u001b[0mprint\u001b[0m\u001b[0;34m(\u001b[0m\u001b[0misPlate\u001b[0m\u001b[0;34m(\u001b[0m\u001b[0marchivos\u001b[0m\u001b[0;34m[\u001b[0m\u001b[0mi\u001b[0m\u001b[0;34m]\u001b[0m\u001b[0;34m)\u001b[0m\u001b[0;34m)\u001b[0m\u001b[0;34m\u001b[0m\u001b[0m\n\u001b[0m",
      "\u001b[0;32m<ipython-input-28-94cae96d302f>\u001b[0m in \u001b[0;36misPlate\u001b[0;34m(img)\u001b[0m\n\u001b[1;32m     12\u001b[0m     \u001b[0;31m# collect bounding boxes from the image\u001b[0m\u001b[0;34m\u001b[0m\u001b[0;34m\u001b[0m\u001b[0m\n\u001b[1;32m     13\u001b[0m     \u001b[0mregions\u001b[0m \u001b[0;34m=\u001b[0m \u001b[0mmser\u001b[0m\u001b[0;34m.\u001b[0m\u001b[0mdetectRegions\u001b[0m\u001b[0;34m(\u001b[0m\u001b[0mgray\u001b[0m\u001b[0;34m)\u001b[0m\u001b[0;34m\u001b[0m\u001b[0m\n\u001b[0;32m---> 14\u001b[0;31m     \u001b[0mbboxes\u001b[0m \u001b[0;34m=\u001b[0m \u001b[0midentifyBoundingBoxes\u001b[0m\u001b[0;34m(\u001b[0m\u001b[0mregions\u001b[0m\u001b[0;34m,\u001b[0m\u001b[0mvis\u001b[0m\u001b[0;34m)\u001b[0m\u001b[0;34m\u001b[0m\u001b[0m\n\u001b[0m\u001b[1;32m     15\u001b[0m     \u001b[0mclases\u001b[0m \u001b[0;34m=\u001b[0m \u001b[0mcalcularClases\u001b[0m\u001b[0;34m(\u001b[0m\u001b[0mbboxes\u001b[0m\u001b[0;34m)\u001b[0m\u001b[0;34m\u001b[0m\u001b[0m\n\u001b[1;32m     16\u001b[0m \u001b[0;34m\u001b[0m\u001b[0m\n",
      "\u001b[0;32m<ipython-input-29-38770cb12c5f>\u001b[0m in \u001b[0;36midentifyBoundingBoxes\u001b[0;34m(regions, img)\u001b[0m\n\u001b[1;32m     19\u001b[0m \u001b[0;34m\u001b[0m\u001b[0m\n\u001b[1;32m     20\u001b[0m         \u001b[0;32mif\u001b[0m \u001b[0max\u001b[0m \u001b[0;34m>\u001b[0m \u001b[0;36m0.02\u001b[0m\u001b[0;34m*\u001b[0m\u001b[0;34m(\u001b[0m\u001b[0mnh\u001b[0m\u001b[0;34m*\u001b[0m\u001b[0mnw\u001b[0m\u001b[0;34m)\u001b[0m \u001b[0;32mand\u001b[0m \u001b[0max\u001b[0m \u001b[0;34m<\u001b[0m \u001b[0;36m0.16\u001b[0m\u001b[0;34m*\u001b[0m\u001b[0;34m(\u001b[0m\u001b[0mnh\u001b[0m\u001b[0;34m*\u001b[0m\u001b[0mnw\u001b[0m\u001b[0;34m)\u001b[0m \u001b[0;32mand\u001b[0m \u001b[0mh2\u001b[0m\u001b[0;34m>\u001b[0m\u001b[0mw2\u001b[0m \u001b[0;32mand\u001b[0m \u001b[0mh2\u001b[0m\u001b[0;34m<\u001b[0m\u001b[0;36m3\u001b[0m\u001b[0;34m*\u001b[0m\u001b[0mw2\u001b[0m\u001b[0;34m:\u001b[0m\u001b[0;34m\u001b[0m\u001b[0m\n\u001b[0;32m---> 21\u001b[0;31m             \u001b[0mcv2\u001b[0m\u001b[0;34m.\u001b[0m\u001b[0mrectangle\u001b[0m\u001b[0;34m(\u001b[0m\u001b[0mvis\u001b[0m\u001b[0;34m,\u001b[0m\u001b[0;34m(\u001b[0m\u001b[0mx\u001b[0m\u001b[0;34m,\u001b[0m\u001b[0my\u001b[0m\u001b[0;34m)\u001b[0m\u001b[0;34m,\u001b[0m\u001b[0;34m(\u001b[0m\u001b[0mx\u001b[0m\u001b[0;34m+\u001b[0m\u001b[0mw2\u001b[0m\u001b[0;34m,\u001b[0m\u001b[0my\u001b[0m\u001b[0;34m+\u001b[0m\u001b[0mh2\u001b[0m\u001b[0;34m)\u001b[0m\u001b[0;34m,\u001b[0m\u001b[0;34m(\u001b[0m\u001b[0;36m255\u001b[0m\u001b[0;34m,\u001b[0m\u001b[0;36m20\u001b[0m\u001b[0;34m,\u001b[0m\u001b[0;36m25\u001b[0m\u001b[0;34m)\u001b[0m\u001b[0;34m)\u001b[0m\u001b[0;34m\u001b[0m\u001b[0m\n\u001b[0m\u001b[1;32m     22\u001b[0m             \u001b[0;31m# Calculate the center of the region\u001b[0m\u001b[0;34m\u001b[0m\u001b[0;34m\u001b[0m\u001b[0m\n\u001b[1;32m     23\u001b[0m             \u001b[0mM\u001b[0m \u001b[0;34m=\u001b[0m \u001b[0mcv2\u001b[0m\u001b[0;34m.\u001b[0m\u001b[0mmoments\u001b[0m\u001b[0;34m(\u001b[0m\u001b[0ma\u001b[0m\u001b[0;34m)\u001b[0m\u001b[0;34m\u001b[0m\u001b[0m\n",
      "\u001b[0;31mNameError\u001b[0m: name 'vis' is not defined"
     ]
    }
   ],
   "source": [
    "files = os.listdir('ImagesDetection')\n",
    "archivos = [cv2.imread(i) for i in files]\n",
    "for i in range(len(archivos)):\n",
    "    print(isPlate(archivos[i]))"
   ]
  },
  {
   "cell_type": "code",
   "execution_count": null,
   "metadata": {},
   "outputs": [],
   "source": []
  }
 ],
 "metadata": {
  "kernelspec": {
   "display_name": "Python 3",
   "language": "python",
   "name": "python3"
  },
  "language_info": {
   "codemirror_mode": {
    "name": "ipython",
    "version": 3
   },
   "file_extension": ".py",
   "mimetype": "text/x-python",
   "name": "python",
   "nbconvert_exporter": "python",
   "pygments_lexer": "ipython3",
   "version": "3.5.2"
  }
 },
 "nbformat": 4,
 "nbformat_minor": 2
}
