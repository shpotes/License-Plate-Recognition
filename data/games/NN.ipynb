{
 "cells": [
  {
   "cell_type": "code",
   "execution_count": 1,
   "metadata": {},
   "outputs": [],
   "source": [
    "import os, cv2, random\n",
    "import numpy as np\n",
    "import matplotlib.pyplot as plt\n",
    "import tensorflow as tf"
   ]
  },
  {
   "cell_type": "code",
   "execution_count": 2,
   "metadata": {},
   "outputs": [],
   "source": [
    "os.chdir('../placas-dataset/caracteres-placas/')\n",
    "IMAGES = []\n",
    "for files in os.listdir():\n",
    "    tmp = cv2.cvtColor(cv2.imread(files), cv2.COLOR_BGR2GRAY)/255\n",
    "    IMAGES.append((tmp, files[0]))\n",
    "\n",
    "MIN = min(map(lambda x: min(x[0].shape), IMAGES))\n",
    "img_shape = (MIN, MIN)\n",
    "img_size_flat = MIN**2\n",
    "data = [(cv2.resize(x[0], dsize=(MIN, MIN), interpolation=cv2.INTER_CUBIC), x[1]) for x in IMAGES]"
   ]
  },
  {
   "cell_type": "code",
   "execution_count": 3,
   "metadata": {},
   "outputs": [],
   "source": [
    "class_names = sorted(list(set([x[1] for x in data])))\n",
    "num_classes = len(class_names)\n",
    "onehot = {}\n",
    "for i, j in enumerate(class_names):\n",
    "    onehot[j] = np.eye(num_classes, dtype=float)[i]"
   ]
  },
  {
   "cell_type": "code",
   "execution_count": 4,
   "metadata": {},
   "outputs": [],
   "source": [
    "def helper(part):\n",
    "    x = []\n",
    "    y = []\n",
    "    y_cls = []\n",
    "    for i in part:\n",
    "        x.append(i[0].flatten())\n",
    "        y_cls.append(class_names.index(i[1]))\n",
    "        y.append(onehot[i[1]])\n",
    "    x, y, y_cls = np.array(x), np.array(y), np.array(y_cls) \n",
    "    return x, y, y_cls"
   ]
  },
  {
   "cell_type": "code",
   "execution_count": 41,
   "metadata": {},
   "outputs": [],
   "source": [
    "def plot_images(images, cls_pred=None):\n",
    "    fig, axes = plt.subplots(2, 2)\n",
    "    fig.subplots_adjust(hspace=0.3, wspace=0.3)\n",
    "\n",
    "    for i, ax in enumerate(axes.flat):\n",
    "        ax.imshow(images[i][0].reshape(img_shape), cmap='binary')\n",
    "        if cls_pred is None:\n",
    "            xlabel = \"True: {0}\".format(images[i][1])\n",
    "        else:\n",
    "            xlabel = \"True: {0}, Pred: {1}\".format(images[i][1], cls_pred[i])\n",
    "\n",
    "        ax.set_xlabel(xlabel)\n",
    "        ax.set_xticks([])\n",
    "        ax.set_yticks([])\n",
    "    plt.show()"
   ]
  },
  {
   "cell_type": "code",
   "execution_count": 6,
   "metadata": {},
   "outputs": [
    {
     "data": {
      "image/png": "[encoded data removed]",
      "text/plain": [
       "<matplotlib.figure.Figure at 0x7f4ab006a668>"
      ]
     },
     "metadata": {},
     "output_type": "display_data"
    }
   ],
   "source": [
    "plot_images(data[0:10])"
   ]
  },
  {
   "cell_type": "code",
   "execution_count": 7,
   "metadata": {},
   "outputs": [],
   "source": [
    "train_por = 0.75\n",
    "num_train = int(0.75 * len(data))\n",
    "random.shuffle(data)\n",
    "train = data[:num_train]\n",
    "test = data[num_train:]\n",
    "x_train, y_train, y_train_cls = helper(train)\n",
    "x_test, y_test, y_test_cls = helper(test)"
   ]
  },
  {
   "cell_type": "code",
   "execution_count": 8,
   "metadata": {},
   "outputs": [],
   "source": [
    "x = tf.placeholder(tf.float32, [None, img_size_flat])\n",
    "y_true = tf.placeholder(tf.float32, [None, num_classes])\n",
    "y_true_cls = tf.placeholder(tf.int64, [None])"
   ]
  },
  {
   "cell_type": "code",
   "execution_count": 9,
   "metadata": {},
   "outputs": [],
   "source": [
    "weights = tf.Variable(tf.zeros([img_size_flat, num_classes]))\n",
    "biases = tf.Variable(tf.zeros([num_classes]))"
   ]
  },
  {
   "cell_type": "code",
   "execution_count": 10,
   "metadata": {},
   "outputs": [],
   "source": [
    "logits = tf.matmul(x, weights) + biases\n",
    "y_pred = tf.nn.softmax(logits)\n",
    "y_pred_cls = tf.argmax(y_pred, axis=1)"
   ]
  },
  {
   "cell_type": "code",
   "execution_count": 11,
   "metadata": {},
   "outputs": [],
   "source": [
    "cross_entropy = tf.nn.softmax_cross_entropy_with_logits_v2(logits=logits,\n",
    "                                                           labels=y_true)\n",
    "cost = tf.reduce_mean(cross_entropy)"
   ]
  },
  {
   "cell_type": "code",
   "execution_count": 12,
   "metadata": {},
   "outputs": [],
   "source": [
    "optimizer = tf.train.GradientDescentOptimizer(learning_rate=0.5).minimize(cost)"
   ]
  },
  {
   "cell_type": "code",
   "execution_count": 13,
   "metadata": {},
   "outputs": [],
   "source": [
    "correct_prediction = tf.equal(y_pred_cls, y_true_cls)\n",
    "accuracy = tf.reduce_mean(tf.cast(correct_prediction, tf.float32))"
   ]
  },
  {
   "cell_type": "code",
   "execution_count": 14,
   "metadata": {},
   "outputs": [],
   "source": [
    "session = tf.Session()\n",
    "session.run(tf.global_variables_initializer())\n",
    "batch_size = 25"
   ]
  },
  {
   "cell_type": "code",
   "execution_count": 15,
   "metadata": {},
   "outputs": [],
   "source": [
    "def optimize(num_iterations):\n",
    "\n",
    "    for i in range(num_iterations):\n",
    "        idx = np.random.randint(low=0, high=num_train, size=batch_size)\n",
    "        x_batch = x_train[idx]\n",
    "        y_batch = y_train[idx]\n",
    "        y_batch_cls = y_train_cls[idx]\n",
    "        \n",
    "        feed_dict_train = {x: x_batch,\n",
    "                           y_true: y_batch}\n",
    "        session.run(optimizer, feed_dict=feed_dict_train)"
   ]
  },
  {
   "cell_type": "code",
   "execution_count": 16,
   "metadata": {},
   "outputs": [],
   "source": [
    "feed_dict_test = {x: x_test,\n",
    "                  y_true: y_test,\n",
    "                  y_true_cls: y_test_cls}"
   ]
  },
  {
   "cell_type": "code",
   "execution_count": 17,
   "metadata": {},
   "outputs": [],
   "source": [
    "def print_accuracy():\n",
    "    acc = session.run(accuracy, feed_dict=feed_dict_test)\n",
    "    print(\"Accuracy on test-set: {0:.1%}\".format(acc))"
   ]
  },
  {
   "cell_type": "code",
   "execution_count": 19,
   "metadata": {},
   "outputs": [
    {
     "name": "stdout",
     "output_type": "stream",
     "text": [
      "Accuracy on test-set: 97.1%\n"
     ]
    }
   ],
   "source": [
    "optimize(num_iterations=100)\n",
    "print_accuracy()"
   ]
  },
  {
   "cell_type": "code",
   "execution_count": 22,
   "metadata": {},
   "outputs": [],
   "source": [
    "def print_confusion_matrix():\n",
    "    from sklearn.metrics import confusion_matrix\n",
    "    cls_true = y_test_cls\n",
    "    cls_pred = session.run(y_pred_cls, feed_dict=feed_dict_test)\n",
    "    cm = confusion_matrix(y_true=cls_true,\n",
    "                          y_pred=cls_pred)\n",
    "\n",
    "    #print(cm)\n",
    "    plt.imshow(cm, interpolation='nearest', cmap=plt.cm.Blues)\n",
    "\n",
    "    plt.tight_layout()\n",
    "    plt.colorbar()\n",
    "    tick_marks = np.arange(num_classes)\n",
    "    plt.xticks(tick_marks, range(num_classes))\n",
    "    plt.yticks(tick_marks, range(num_classes))\n",
    "    plt.xlabel('Predicted')\n",
    "    plt.ylabel('True')\n",
    "    \n",
    "    plt.show()"
   ]
  },
  {
   "cell_type": "code",
   "execution_count": 23,
   "metadata": {},
   "outputs": [
    {
     "data": {
      "image/png": "[encoded data removed]",
      "text/plain": [
       "<matplotlib.figure.Figure at 0x7f4ae8156048>"
      ]
     },
     "metadata": {},
     "output_type": "display_data"
    }
   ],
   "source": [
    "print_confusion_matrix()"
   ]
  },
  {
   "cell_type": "code",
   "execution_count": 43,
   "metadata": {},
   "outputs": [
    {
     "data": {
      "image/png": "[encoded data removed]",
      "text/plain": [
       "<matplotlib.figure.Figure at 0x7f4a9ed5fa58>"
      ]
     },
     "metadata": {},
     "output_type": "display_data"
    }
   ],
   "source": [
    "correct, cls_pred = session.run([correct_prediction, y_pred_cls],\n",
    "                                feed_dict=feed_dict_test)\n",
    "\n",
    "incorrect = (correct == False)\n",
    "images = x_test[incorrect]\n",
    "cls_pred = cls_pred[incorrect]\n",
    "cls_true = y_test_cls[incorrect]\n",
    "    \n",
    "# plot the first 9 images.\n",
    "tmp = list(zip(images, list(map(lambda x: class_names[x], cls_true))))\n",
    "plot_images(tmp, list(map(lambda x: class_names[x], cls_pred)))"
   ]
  },
  {
   "cell_type": "code",
   "execution_count": null,
   "metadata": {},
   "outputs": [],
   "source": []
  }
 ],
 "metadata": {
  "kernelspec": {
   "display_name": "Python 3",
   "language": "python",
   "name": "python3"
  },
  "language_info": {
   "codemirror_mode": {
    "name": "ipython",
    "version": 3
   },
   "file_extension": ".py",
   "mimetype": "text/x-python",
   "name": "python",
   "nbconvert_exporter": "python",
   "pygments_lexer": "ipython3",
   "version": "3.5.2"
  }
 },
 "nbformat": 4,
 "nbformat_minor": 2
}
