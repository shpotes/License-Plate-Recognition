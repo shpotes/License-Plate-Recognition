{
 "cells": [
  {
   "cell_type": "code",
   "execution_count": 1,
   "metadata": {},
   "outputs": [],
   "source": [
    "import matplotlib.pyplot as plt\n",
    "import tensorflow as tf\n",
    "import numpy as np\n",
    "import time\n",
    "from util.dataset import DataSet\n",
    "from datetime import timedelta\n",
    "import pickle"
   ]
  },
  {
   "cell_type": "code",
   "execution_count": 2,
   "metadata": {},
   "outputs": [],
   "source": [
    "data = DataSet(14, 0.9, '../data/letters/', validation=False)\n",
    "#pickle.dump(data, open('../data/letters/dataset.pkl', 'wb' ))\n",
    "#data = pickle.load(open('../data/letters/dataset.pkl', 'rb' ))"
   ]
  },
  {
   "cell_type": "code",
   "execution_count": 3,
   "metadata": {},
   "outputs": [],
   "source": [
    "def plot_images(images, cls_true, cls_pred=None):    \n",
    "    # Create figure with 3x3 sub-plots.\n",
    "    fig, axes = plt.subplots(3, 3)\n",
    "    fig.subplots_adjust(hspace=0.3, wspace=0.3)\n",
    "\n",
    "    for i, ax in enumerate(axes.flat):\n",
    "        # Plot image.\n",
    "        ax.imshow(images[i], cmap='binary')\n",
    "\n",
    "        # Show true and predicted classes.\n",
    "        if cls_pred is None:\n",
    "            xlabel = \"True: {0}\".format(data.class_names[cls_true[i]])\n",
    "        else:\n",
    "            xlabel = \"True: {0}, Pred: {1}\".format(data.class_names[cls_true[i]], data.class_names[cls_pred[i]])\n",
    "\n",
    "        ax.set_xlabel(xlabel)\n",
    "        \n",
    "        # Remove ticks from the plot.\n",
    "        ax.set_xticks([])\n",
    "        ax.set_yticks([])\n",
    "        \n",
    "    # Ensure the plot is shown correctly with multiple plots\n",
    "    # in a single Notebook cell.\n",
    "    plt.show()"
   ]
  },
  {
   "cell_type": "code",
   "execution_count": 4,
   "metadata": {},
   "outputs": [
    {
     "data": {
      "image/png": "[encoded data removed]",
      "text/plain": [
       "<matplotlib.figure.Figure at 0x7f231cec10f0>"
      ]
     },
     "metadata": {},
     "output_type": "display_data"
    }
   ],
   "source": [
    "plot_images(data.x_train[:9], data.y_train_cls[:9])"
   ]
  },
  {
   "cell_type": "code",
   "execution_count": 5,
   "metadata": {},
   "outputs": [],
   "source": [
    "x = tf.placeholder(tf.float32, [None, data.img_size_flat], name='x')\n",
    "y_true = tf.placeholder(tf.float32, [None, data.num_classes], name='y_true')\n",
    "y_true_cls = tf.argmax(y_true, axis=1)"
   ]
  },
  {
   "cell_type": "code",
   "execution_count": 6,
   "metadata": {},
   "outputs": [],
   "source": [
    "new_weights = lambda shape: tf.Variable(tf.truncated_normal(shape, stddev=0.05))\n",
    "new_biases = lambda length: tf.Variable(tf.constant(0.05, shape=[length]))\n",
    "    \n",
    "def new_fc_layer(inp, num_inputs, num_outputs, use_relu=True, keep_prob=0):\n",
    "    weights = new_weights(shape=[num_inputs, num_outputs])\n",
    "    biases = new_biases(length=num_outputs)\n",
    "\n",
    "    layer = inp\n",
    "    \n",
    "    if keep_prob:\n",
    "        layer = tf.nn.dropout(inp, keep_prob) * keep_prob\n",
    "\n",
    "    layer = tf.matmul(inp, weights) + biases\n",
    "\n",
    "    if use_relu:\n",
    "        layer = tf.nn.relu(layer)\n",
    "\n",
    "    return layer"
   ]
  },
  {
   "cell_type": "code",
   "execution_count": 17,
   "metadata": {},
   "outputs": [],
   "source": [
    "fc2_size = 40"
   ]
  },
  {
   "cell_type": "code",
   "execution_count": 18,
   "metadata": {},
   "outputs": [
    {
     "data": {
      "text/plain": [
       "<tf.Tensor 'Relu_2:0' shape=(?, 40) dtype=float32>"
      ]
     },
     "execution_count": 18,
     "metadata": {},
     "output_type": "execute_result"
    }
   ],
   "source": [
    "layer_fc2 = new_fc_layer(inp=x, num_inputs=data.img_size_flat, num_outputs=fc2_size, use_relu=True, keep_prob=0.3)\n",
    "layer_fc2"
   ]
  },
  {
   "cell_type": "code",
   "execution_count": 19,
   "metadata": {},
   "outputs": [
    {
     "data": {
      "text/plain": [
       "<tf.Tensor 'Relu_3:0' shape=(?, 36) dtype=float32>"
      ]
     },
     "execution_count": 19,
     "metadata": {},
     "output_type": "execute_result"
    }
   ],
   "source": [
    "layer_fc3 = new_fc_layer(inp=layer_fc2, num_inputs=fc2_size, num_outputs=data.num_classes)\n",
    "layer_fc3"
   ]
  },
  {
   "cell_type": "code",
   "execution_count": 20,
   "metadata": {},
   "outputs": [],
   "source": [
    "y_pred = tf.nn.softmax(layer_fc3)\n",
    "y_pred_cls = tf.argmax(y_pred, axis=1)"
   ]
  },
  {
   "cell_type": "code",
   "execution_count": 21,
   "metadata": {},
   "outputs": [],
   "source": [
    "cross_entropy = tf.nn.softmax_cross_entropy_with_logits_v2(logits=layer_fc3, labels=y_true)\n",
    "cost = tf.reduce_mean(cross_entropy)"
   ]
  },
  {
   "cell_type": "code",
   "execution_count": 28,
   "metadata": {},
   "outputs": [],
   "source": [
    "optimizer = tf.train.AdamOptimizer(learning_rate=1e-4).minimize(cost)"
   ]
  },
  {
   "cell_type": "code",
   "execution_count": 29,
   "metadata": {},
   "outputs": [],
   "source": [
    "correct_prediction = tf.equal(y_pred_cls, y_true_cls)\n",
    "accuracy = tf.reduce_mean(tf.cast(correct_prediction, tf.float32))"
   ]
  },
  {
   "cell_type": "code",
   "execution_count": 30,
   "metadata": {},
   "outputs": [],
   "source": [
    "session = tf.Session()\n",
    "session.run(tf.global_variables_initializer())"
   ]
  },
  {
   "cell_type": "code",
   "execution_count": 33,
   "metadata": {},
   "outputs": [],
   "source": [
    "train_batch_size = 32\n",
    "\n",
    "total_iterations = 0\n",
    "\n",
    "def optimize(num_iterations):\n",
    "    global total_iterations\n",
    "    start_time = time.time()\n",
    "\n",
    "    for i in range(total_iterations, total_iterations + num_iterations):\n",
    "        x_batch, y_true_batch, y_batch_cls = data.random_batch(batch_size=train_batch_size)\n",
    "\n",
    "        feed_dict_train = {x: x_batch, y_true: y_true_batch}\n",
    "        session.run(optimizer, feed_dict=feed_dict_train)\n",
    "\n",
    "        if i % 100 == 0:\n",
    "            acc = session.run(accuracy, feed_dict=feed_dict_train)\n",
    "            msg = \"Optimization Iteration: {0:>6}, Training Accuracy: {1:>6.1%}\"\n",
    "            print(msg.format(i + 1, acc))\n",
    "\n",
    "    total_iterations += num_iterations\n",
    "    end_time = time.time()\n",
    "    time_dif = end_time - start_time\n",
    "\n",
    "    # Print the time-usage.\n",
    "    print(\"Time usage: \" + str(timedelta(seconds=int(round(time_dif)))))"
   ]
  },
  {
   "cell_type": "code",
   "execution_count": 34,
   "metadata": {},
   "outputs": [
    {
     "name": "stdout",
     "output_type": "stream",
     "text": [
      "Optimization Iteration:      1, Training Accuracy:  62.5%\n",
      "Optimization Iteration:    101, Training Accuracy:  65.6%\n",
      "Optimization Iteration:    201, Training Accuracy:  50.0%\n",
      "Optimization Iteration:    301, Training Accuracy:  68.8%\n",
      "Optimization Iteration:    401, Training Accuracy:  71.9%\n",
      "Optimization Iteration:    501, Training Accuracy:  59.4%\n",
      "Optimization Iteration:    601, Training Accuracy:  56.2%\n",
      "Optimization Iteration:    701, Training Accuracy:  75.0%\n",
      "Optimization Iteration:    801, Training Accuracy:  78.1%\n",
      "Optimization Iteration:    901, Training Accuracy:  71.9%\n",
      "Optimization Iteration:   1001, Training Accuracy:  75.0%\n",
      "Optimization Iteration:   1101, Training Accuracy:  68.8%\n",
      "Optimization Iteration:   1201, Training Accuracy:  65.6%\n",
      "Optimization Iteration:   1301, Training Accuracy:  78.1%\n",
      "Optimization Iteration:   1401, Training Accuracy:  59.4%\n",
      "Optimization Iteration:   1501, Training Accuracy:  62.5%\n",
      "Optimization Iteration:   1601, Training Accuracy:  62.5%\n",
      "Optimization Iteration:   1701, Training Accuracy:  75.0%\n",
      "Optimization Iteration:   1801, Training Accuracy:  68.8%\n",
      "Optimization Iteration:   1901, Training Accuracy:  65.6%\n",
      "Optimization Iteration:   2001, Training Accuracy:  53.1%\n",
      "Optimization Iteration:   2101, Training Accuracy:  65.6%\n",
      "Optimization Iteration:   2201, Training Accuracy:  68.8%\n",
      "Optimization Iteration:   2301, Training Accuracy:  71.9%\n",
      "Optimization Iteration:   2401, Training Accuracy:  65.6%\n",
      "Optimization Iteration:   2501, Training Accuracy:  75.0%\n",
      "Optimization Iteration:   2601, Training Accuracy:  56.2%\n",
      "Optimization Iteration:   2701, Training Accuracy:  68.8%\n",
      "Optimization Iteration:   2801, Training Accuracy:  75.0%\n",
      "Optimization Iteration:   2901, Training Accuracy:  62.5%\n",
      "Optimization Iteration:   3001, Training Accuracy:  68.8%\n",
      "Optimization Iteration:   3101, Training Accuracy:  75.0%\n",
      "Optimization Iteration:   3201, Training Accuracy:  78.1%\n",
      "Optimization Iteration:   3301, Training Accuracy:  56.2%\n",
      "Optimization Iteration:   3401, Training Accuracy:  65.6%\n",
      "Optimization Iteration:   3501, Training Accuracy:  71.9%\n",
      "Optimization Iteration:   3601, Training Accuracy:  71.9%\n",
      "Optimization Iteration:   3701, Training Accuracy:  71.9%\n",
      "Optimization Iteration:   3801, Training Accuracy:  68.8%\n",
      "Optimization Iteration:   3901, Training Accuracy:  68.8%\n",
      "Optimization Iteration:   4001, Training Accuracy:  53.1%\n",
      "Optimization Iteration:   4101, Training Accuracy:  78.1%\n",
      "Optimization Iteration:   4201, Training Accuracy:  71.9%\n",
      "Optimization Iteration:   4301, Training Accuracy:  84.4%\n",
      "Optimization Iteration:   4401, Training Accuracy:  81.2%\n",
      "Optimization Iteration:   4501, Training Accuracy:  78.1%\n",
      "Optimization Iteration:   4601, Training Accuracy:  62.5%\n",
      "Optimization Iteration:   4701, Training Accuracy:  68.8%\n",
      "Optimization Iteration:   4801, Training Accuracy:  65.6%\n",
      "Optimization Iteration:   4901, Training Accuracy:  50.0%\n",
      "Optimization Iteration:   5001, Training Accuracy:  81.2%\n",
      "Optimization Iteration:   5101, Training Accuracy:  78.1%\n",
      "Optimization Iteration:   5201, Training Accuracy:  71.9%\n",
      "Optimization Iteration:   5301, Training Accuracy:  62.5%\n",
      "Optimization Iteration:   5401, Training Accuracy:  65.6%\n",
      "Optimization Iteration:   5501, Training Accuracy:  71.9%\n",
      "Optimization Iteration:   5601, Training Accuracy:  78.1%\n",
      "Optimization Iteration:   5701, Training Accuracy:  75.0%\n",
      "Optimization Iteration:   5801, Training Accuracy:  68.8%\n",
      "Optimization Iteration:   5901, Training Accuracy:  75.0%\n",
      "Optimization Iteration:   6001, Training Accuracy:  68.8%\n",
      "Optimization Iteration:   6101, Training Accuracy:  78.1%\n",
      "Optimization Iteration:   6201, Training Accuracy:  71.9%\n",
      "Optimization Iteration:   6301, Training Accuracy:  59.4%\n",
      "Optimization Iteration:   6401, Training Accuracy:  59.4%\n",
      "Optimization Iteration:   6501, Training Accuracy:  87.5%\n",
      "Optimization Iteration:   6601, Training Accuracy:  71.9%\n",
      "Optimization Iteration:   6701, Training Accuracy:  78.1%\n",
      "Optimization Iteration:   6801, Training Accuracy:  65.6%\n",
      "Optimization Iteration:   6901, Training Accuracy:  68.8%\n",
      "Optimization Iteration:   7001, Training Accuracy:  90.6%\n",
      "Optimization Iteration:   7101, Training Accuracy:  78.1%\n",
      "Optimization Iteration:   7201, Training Accuracy:  81.2%\n",
      "Optimization Iteration:   7301, Training Accuracy:  71.9%\n",
      "Optimization Iteration:   7401, Training Accuracy:  59.4%\n",
      "Optimization Iteration:   7501, Training Accuracy:  68.8%\n",
      "Optimization Iteration:   7601, Training Accuracy:  59.4%\n",
      "Optimization Iteration:   7701, Training Accuracy:  71.9%\n",
      "Optimization Iteration:   7801, Training Accuracy:  68.8%\n",
      "Optimization Iteration:   7901, Training Accuracy:  71.9%\n",
      "Optimization Iteration:   8001, Training Accuracy:  75.0%\n",
      "Optimization Iteration:   8101, Training Accuracy:  84.4%\n",
      "Optimization Iteration:   8201, Training Accuracy:  78.1%\n",
      "Optimization Iteration:   8301, Training Accuracy:  59.4%\n",
      "Optimization Iteration:   8401, Training Accuracy:  75.0%\n",
      "Optimization Iteration:   8501, Training Accuracy:  81.2%\n",
      "Optimization Iteration:   8601, Training Accuracy:  81.2%\n",
      "Optimization Iteration:   8701, Training Accuracy:  68.8%\n",
      "Optimization Iteration:   8801, Training Accuracy:  75.0%\n",
      "Optimization Iteration:   8901, Training Accuracy:  62.5%\n",
      "Optimization Iteration:   9001, Training Accuracy:  71.9%\n",
      "Optimization Iteration:   9101, Training Accuracy:  62.5%\n",
      "Optimization Iteration:   9201, Training Accuracy:  84.4%\n",
      "Optimization Iteration:   9301, Training Accuracy:  71.9%\n",
      "Optimization Iteration:   9401, Training Accuracy:  81.2%\n",
      "Optimization Iteration:   9501, Training Accuracy:  84.4%\n",
      "Optimization Iteration:   9601, Training Accuracy:  68.8%\n",
      "Optimization Iteration:   9701, Training Accuracy:  68.8%\n",
      "Optimization Iteration:   9801, Training Accuracy:  75.0%\n",
      "Optimization Iteration:   9901, Training Accuracy:  75.0%\n",
      "Time usage: 0:00:06\n"
     ]
    }
   ],
   "source": [
    "#print(data.num_train)\n",
    "optimize(10000)"
   ]
  },
  {
   "cell_type": "code",
   "execution_count": 35,
   "metadata": {},
   "outputs": [],
   "source": [
    "test_batch_size = 256\n",
    "\n",
    "def print_test_accuracy():\n",
    "    cls_pred = np.zeros(shape=data.num_test, dtype=np.int)\n",
    "    i = 0\n",
    "\n",
    "    while i < data.num_test:\n",
    "        j = min(i + test_batch_size, data.num_test)\n",
    "        \n",
    "        images = data.x_test_flat[i:j, :]\n",
    "        labels = data.y_test[i:j, :]\n",
    "\n",
    "        feed_dict = {x: images,\n",
    "                     y_true: labels}\n",
    "\n",
    "        cls_pred[i:j] = session.run(y_pred_cls, feed_dict=feed_dict)\n",
    "\n",
    "        i = j\n",
    "\n",
    "    cls_true = data.y_test_cls\n",
    "    \n",
    "    correct = cls_true.transpose() == cls_pred\n",
    "    \n",
    "    correct_sum = correct.sum()\n",
    "    acc = float(correct_sum) / data.num_test\n",
    "\n",
    "    # Print the accuracy.\n",
    "    msg = \"Accuracy on Test-Set: {0:.1%} ({1} / {2})\"\n",
    "    print(msg.format(acc, correct_sum, data.num_test))"
   ]
  },
  {
   "cell_type": "code",
   "execution_count": 36,
   "metadata": {},
   "outputs": [
    {
     "name": "stdout",
     "output_type": "stream",
     "text": [
      "Accuracy on Test-Set: 39.6% (118 / 298)\n"
     ]
    }
   ],
   "source": [
    "print_test_accuracy()"
   ]
  },
  {
   "cell_type": "code",
   "execution_count": 37,
   "metadata": {},
   "outputs": [],
   "source": [
    "import os,cv2\n",
    "\n",
    "x_val = []\n",
    "y_val_true = []\n",
    "for i in os.listdir('../data/letters/validation/'):\n",
    "    x_val.append(cv2.cvtColor(cv2.resize(cv2.imread('../data/letters/validation/' + i), data.img_shape), cv2.COLOR_BGR2GRAY).flatten())\n",
    "    y_val_true.append(i[0])"
   ]
  },
  {
   "cell_type": "code",
   "execution_count": 38,
   "metadata": {},
   "outputs": [],
   "source": [
    "feed_dict = {x: np.vstack(x_val)}\n",
    "\n",
    "pred = session.run(y_pred_cls, feed_dict=feed_dict)"
   ]
  },
  {
   "cell_type": "code",
   "execution_count": 39,
   "metadata": {},
   "outputs": [
    {
     "data": {
      "text/plain": [
       "[False,\n",
       " False,\n",
       " False,\n",
       " False,\n",
       " False,\n",
       " False,\n",
       " False,\n",
       " False,\n",
       " False,\n",
       " False,\n",
       " False,\n",
       " False,\n",
       " True,\n",
       " True,\n",
       " True,\n",
       " True,\n",
       " False,\n",
       " True,\n",
       " False,\n",
       " False,\n",
       " True,\n",
       " False,\n",
       " False,\n",
       " False,\n",
       " True,\n",
       " False,\n",
       " True,\n",
       " False,\n",
       " True,\n",
       " True,\n",
       " False,\n",
       " True,\n",
       " False,\n",
       " False,\n",
       " False,\n",
       " False,\n",
       " False,\n",
       " True,\n",
       " False]"
      ]
     },
     "execution_count": 39,
     "metadata": {},
     "output_type": "execute_result"
    }
   ],
   "source": [
    "[i == j for i, j in zip(y_val_true, [data.class_names[x] for x in pred])]"
   ]
  },
  {
   "cell_type": "code",
   "execution_count": null,
   "metadata": {},
   "outputs": [],
   "source": []
  }
 ],
 "metadata": {
  "kernelspec": {
   "display_name": "Python 3",
   "language": "python",
   "name": "python3"
  },
  "language_info": {
   "codemirror_mode": {
    "name": "ipython",
    "version": 3
   },
   "file_extension": ".py",
   "mimetype": "text/x-python",
   "name": "python",
   "nbconvert_exporter": "python",
   "pygments_lexer": "ipython3",
   "version": "3.5.2"
  }
 },
 "nbformat": 4,
 "nbformat_minor": 2
}
